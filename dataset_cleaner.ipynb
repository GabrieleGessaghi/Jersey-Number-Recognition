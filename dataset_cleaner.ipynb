{
 "cells": [
  {
   "cell_type": "code",
   "execution_count": 1,
   "metadata": {},
   "outputs": [],
   "source": [
    "import torch\n",
    "import torch.nn as nn\n",
    "from torch.utils.data import Dataset, DataLoader\n",
    "from torchvision.transforms import v2\n",
    "from torchvision.io import read_image\n",
    "from typing import List, Tuple\n",
    "import os\n",
    "import glob\n",
    "import json\n",
    "from ultralytics import YOLO\n",
    "from torchvision.io import read_image\n",
    "from torchvision.transforms.functional import resize\n",
    "import shutil\n",
    "from tqdm.auto import trange, tqdm\n",
    "from pathlib import Path\n",
    "\n",
    "\n",
    "\n",
    "dataset_path = \"SoccerNet/jersey-2023/\"\n",
    "train_path = os.path.join(dataset_path, 'train')\n",
    "test_path = os.path.join(dataset_path, 'test')\n",
    "train_images = glob.glob(os.path.join(train_path, 'images/**/*.jpg'), recursive=True)\n",
    "test_images = glob.glob(os.path.join(test_path, 'images/**/*.jpg'), recursive=True)\n",
    "\n",
    "model = YOLO('runs/detect/BOX2/weights/best.pt')\n",
    "to_gray = v2.Grayscale(num_output_channels=3)\n",
    "destination_folder = Path(os.path.join(train_path, 'images/-1/'))\n",
    "destination_folder.mkdir(parents=True, exist_ok=True)"
   ]
  },
  {
   "cell_type": "code",
   "execution_count": null,
   "metadata": {},
   "outputs": [],
   "source": [
    "# CLEAN DATASET FROM FALSE IMAGES/LABELS ASSOCIATIONS \n",
    "\n",
    "\n",
    "\n",
    "train_gt = json.load(open(os.path.join(train_path, 'train_gt.json')))\n",
    "train_targets = []\n",
    "\n",
    "counter = 0\n",
    "for id in tqdm(os.listdir(os.path.join(train_path, 'images/')), desc=\"Analyzing players\"):\n",
    "    if train_gt[id] != -1:\n",
    "        player_folder = Path(os.path.join(destination_folder, f'{id}/'))\n",
    "        player_folder.mkdir(parents=True, exist_ok=True)\n",
    "        for image in tqdm(os.listdir(os.path.join(train_path, 'images/', id)), desc=f\"Analyzing images for player id {id}\"):\n",
    "            image_path = os.path.join(train_path, 'images/', id, image)\n",
    "            img= read_image(image_path)\n",
    "            img = resize(img, (640, 640)) / 255.0\n",
    "            img = to_gray(img)\n",
    "            pred = model.predict(img.unsqueeze(0), verbose=False)\n",
    "            if pred[0].boxes:\n",
    "                try:\n",
    "                    train_targets.append(train_gt[id])\n",
    "                except:\n",
    "                    print(f\"Skipping {id}\")        \n",
    "            else:\n",
    "                train_targets.append(-1)\n",
    "                image_filename = os.path.basename(image_path)\n",
    "                #destination_path = os.path.join(destination_folder, image_filename)\n",
    "                shutil.move(image_path, player_folder)\n",
    "                counter += 1\n",
    "    else:\n",
    "        print(f\"Player id: {id} label is already -1 ...\")\n",
    "        try:\n",
    "            int(id)\n",
    "            train_targets.extend([train_gt[id]] * len(os.listdir(os.path.join(train_path, 'images/', id))))\n",
    "        except Exception:\n",
    "            print(f\"Skipping {id}\")\n",
    "\n",
    "    print(f\"Moved : {counter} images\")\n"
   ]
  },
  {
   "cell_type": "code",
   "execution_count": null,
   "metadata": {},
   "outputs": [],
   "source": [
    "# REVERT DATASET\n",
    "\n",
    "\n",
    "\n",
    "for id in tqdm(os.listdir(os.path.join(train_path, 'images/-1/')), desc=\"Reverting original dataset: \"):\n",
    "    player_folder = Path(os.path.join(destination_folder, f'{id}/'))\n",
    "    for image in os.listdir(os.path.join(train_path, 'images/-1/', id)):\n",
    "        image_filename = os.path.basename(image_path)\n",
    "        revert_path = os.path.join(train_path, 'images/', id)\n",
    "        shutil.move(image_path, revert_path)\n",
    "        counter += 1\n",
    "\n",
    "print(f\"Restored: {counter} images\")"
   ]
  },
  {
   "cell_type": "code",
   "execution_count": null,
   "metadata": {},
   "outputs": [],
   "source": []
  }
 ],
 "metadata": {
  "kernelspec": {
   "display_name": "Python 3",
   "language": "python",
   "name": "python3"
  },
  "language_info": {
   "codemirror_mode": {
    "name": "ipython",
    "version": 3
   },
   "file_extension": ".py",
   "mimetype": "text/x-python",
   "name": "python",
   "nbconvert_exporter": "python",
   "pygments_lexer": "ipython3",
   "version": "3.11.6"
  }
 },
 "nbformat": 4,
 "nbformat_minor": 2
}
